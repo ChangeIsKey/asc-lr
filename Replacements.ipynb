{
 "cells": [
  {
   "cell_type": "code",
   "execution_count": 172,
   "id": "9796911b-cedd-4ff8-abcc-a8238d1118a6",
   "metadata": {},
   "outputs": [],
   "source": [
    "from pathlib import Path\n",
    "import random\n",
    "random.seed(42)\n",
    "\n",
    "dataset = 'DWUG-Swedish'\n",
    "path_ = f\"/mimer/NOBACKUP/groups/cik_data/emnlp2023/tokenization/LSC/{dataset}/corpus2/token/\"\n",
    "\n",
    "for p in Path(path_).glob('*.txt'):\n",
    "    target = str(p).split('/')[-1].replace('.txt', '')\n",
    "    rows = open(p, encoding='utf-8', mode='r').readlines()\n",
    "    \n",
    "    random.shuffle(rows)\n",
    "    n = len(rows)//2\n",
    "    \n",
    "    p1 = str(p).replace(f'{dataset}/corpus2/', f'{dataset}-repl/corpus1/')\n",
    "    p2 = str(p).replace(f'{dataset}/corpus2/', f'{dataset}-repl/corpus2/')\n",
    "    \n",
    "    Path(p1.replace(f'{target}.txt', '')).mkdir(exist_ok=True, parents=True)\n",
    "    Path(p2.replace(f'{target}.txt', '')).mkdir(exist_ok=True, parents=True)    \n",
    "    \n",
    "    p1_sent = rows[:n]\n",
    "    p1_sent = [json.dumps(json.loads(r))+'\\n' for r in p1_sent]\n",
    "    p2_sent = rows[n:]\n",
    "    p2_sent = [json.dumps(json.loads(r))+'\\n' for r in p2_sent]\n",
    "    \n",
    "    open(p1, mode='w', encoding='utf-8').writelines(p1_sent)   \n",
    "    open(p2, mode='w', encoding='utf-8').writelines(p2_sent)"
   ]
  },
  {
   "cell_type": "code",
   "execution_count": 173,
   "id": "ba660649-5a90-4761-867c-b8a771b83208",
   "metadata": {},
   "outputs": [],
   "source": [
    "import json \n",
    "import numpy as np\n",
    "\n",
    "path_ = f\"/mimer/NOBACKUP/groups/cik_data/emnlp2023/tokenization/LSC/{dataset}-repl/corpus1/token/\"\n",
    "\n",
    "paths = list(Path(path_).glob('*.txt'))\n",
    "change = np.linspace(0, 1, len(paths))\n",
    "\n",
    "random.shuffle(change)\n",
    "\n",
    "truth_path = f\"/mimer/NOBACKUP/groups/cik_data/emnlp2023/datasets/LSC/{dataset}/truth/graded.txt\"\n",
    "open(truth_path, mode='w', encoding='utf-8').writelines([str(grade)+'\\n' for grade in change])\n",
    "\n",
    "targets = list()\n",
    "\n",
    "for i, p in enumerate(paths):\n",
    "    target = str(p).split('/')[-1].replace('.txt', '')\n",
    "    targets.append(target)\n",
    "    new_sentences = list()\n",
    "    for p1 in Path(path_).glob('*.txt'):\n",
    "        target1 = str(p1).split('/')[-1].replace('.txt', '')\n",
    "        if target1 == target: continue\n",
    "        tmp = list()\n",
    "        for r in open(p1, mode='r', encoding='utf-8').readlines():\n",
    "            try:\n",
    "                tmp.append(json.loads(r))\n",
    "            except:\n",
    "                print(r)\n",
    "        for r in tmp:\n",
    "            delta = len(target) - len(r['token'])\n",
    "            r['end']+=delta\n",
    "            r['token'] = target\n",
    "            r['lemma'] = target\n",
    "            r['sentence'] = r['sentence'][:r['start']] + r['token'] + ' '+ r['sentence'][r['end']:]\n",
    "            \n",
    "        new_sentences.extend([json.dumps(r)+'\\n' for r in tmp])\n",
    "        \n",
    "    p = str(p).replace(f'{dataset}-repl/corpus1/', f'{dataset}-repl/corpus2/')\n",
    "    old_sentences = open(p, mode='r', encoding='utf-8').readlines()\n",
    "    \n",
    "    random.shuffle(new_sentences)\n",
    "    new_sentences = new_sentences[:len(old_sentences)]\n",
    "    \n",
    "    new_sentences = new_sentences[:int(len(new_sentences)*change[i])]\n",
    "    new_sentences = old_sentences + new_sentences\n",
    "    open(p, mode='w', encoding='utf-8').writelines(new_sentences)"
   ]
  },
  {
   "cell_type": "code",
   "execution_count": 13,
   "id": "69a2891e-623c-4d78-9f2d-f08dd4011c82",
   "metadata": {},
   "outputs": [],
   "source": [
    "nouns = ['afternoon', 'word', 'record', 'lane', 'relationship', 'risk', 'tree', 'twist', 'savage', 'stab', 'thump', 'part', 'land', 'lass', 'maxim', 'multitude', 'plane', 'player', 'prop', 'quilt', 'rag', 'rally', 'ounce', 'grain', 'head', 'heel', 'graft', 'attack', 'bag', 'ball', 'bar', 'bit', 'chairman', 'gas', 'chef', 'contemplation', 'donkey', 'edge', 'face', 'fiction']\n",
    "verbs = ['circle', 'include', 'pick', 'pin', 'stroke', 'tip']\n",
    "\n",
    "nouns_verbs = verbs + nouns"
   ]
  },
  {
   "cell_type": "code",
   "execution_count": 174,
   "id": "d06b08f3-7da2-46dd-9514-863a8c959170",
   "metadata": {},
   "outputs": [],
   "source": [
    "import torch\n",
    "from pathlib import Path\n",
    "from collections import defaultdict\n",
    "\n",
    "embs = defaultdict(dict)\n",
    "model = 'xlm-roberta-base'\n",
    "\n",
    "for layer in range(1, 13):\n",
    "    for p in Path(f\"/mimer/NOBACKUP/groups/cik_data/emnlp2023/lsc_embeddings/{dataset}-repl/{model}/corpus1/12/\").glob(\"*.pt\"):\n",
    "        target = str(p).split('/')[-1].replace('.pt', '')\n",
    "        embs1 = torch.load(f\"/mimer/NOBACKUP/groups/cik_data/emnlp2023/lsc_embeddings/{dataset}-repl/{model}/corpus1/{layer}/{target}.pt\")\n",
    "        embs2 = torch.load(f\"/mimer/NOBACKUP/groups/cik_data/emnlp2023/lsc_embeddings/{dataset}-repl/{model}/corpus2/{layer}/{target}.pt\")  \n",
    "        embs[target][layer] = [embs1, embs2]"
   ]
  },
  {
   "cell_type": "code",
   "execution_count": 164,
   "id": "0adb1824-8595-45a5-9dee-f2a6d99d1224",
   "metadata": {},
   "outputs": [],
   "source": [
    "from scipy.spatial.distance import cdist, cosine\n",
    "from scipy.stats import spearmanr\n",
    "from collections import Counter\n",
    "from scipy.stats import entropy\n",
    "from sklearn.cluster import AffinityPropagation\n",
    "import numpy as np\n",
    "\n",
    "def apd(a, b): \n",
    "    return np.mean(cdist(a, b, metric='cosine'))\n",
    "\n",
    "def prt(a, b):\n",
    "    return cosine(a.mean(axis=0), b.mean(axis=0))\n",
    "\n",
    "def jsd(E1, E2) -> float:\n",
    "        \"\"\"Returns the Jensen Shannon Divergence between the distributions of senses in two sets of data.\n",
    "\n",
    "        Args:\n",
    "            E1(np.array): A numpy array representing the word embeddings of the first set of words.\n",
    "            E2(np.array): A numpy array representing the word embeddings of the second set of words.\n",
    "            L1(np.array): A numpy array representing the sense labels for the words in the first set.\n",
    "            L2(np.array): A numpy array representing the sense labels for the words in the second set.\n",
    "\n",
    "        Returns:\n",
    "            score(float)\n",
    "        \"\"\"\n",
    "        ap = AffinityPropagation(affinity='precomputed', damping=0.9,\n",
    "                                 max_iter=200,\n",
    "                                 convergence_iter=15,\n",
    "                                 copy=True,\n",
    "                                 preference=None, \n",
    "                                 random_state=42)\n",
    "        \n",
    "        sim = cdist(np.concatenate([E1, E2], axis=0), np.concatenate([E1, E2], axis=0))\n",
    "        ap.fit(sim)\n",
    "\n",
    "        L = ap.labels_\n",
    "        L1, L2 = L[:E1.shape[0]], L[E1.shape[0]:]\n",
    "        \n",
    "        labels = np.unique(np.concatenate([L1, L2]))\n",
    "        #print(labels.shape[0], end=' ')\n",
    "\n",
    "        c1 = Counter(L1)\n",
    "        c2 = Counter(L2)\n",
    "\n",
    "        L1_dist = np.array([c1[l] for l in labels])\n",
    "        L2_dist = np.array([c2[l] for l in labels])\n",
    "\n",
    "        L1_dist = L1_dist / L1_dist.sum()\n",
    "        L2_dist = L2_dist / L2_dist.sum()\n",
    "\n",
    "        m = (L1_dist + L2_dist) / 2\n",
    "\n",
    "        return (entropy(L1_dist, m) + entropy(L2_dist, m)) / 2"
   ]
  },
  {
   "cell_type": "code",
   "execution_count": 165,
   "id": "97e8fcc8-1c12-4c8c-bac3-0c921ca00dc4",
   "metadata": {},
   "outputs": [],
   "source": [
    "graded = open(f\"/mimer/NOBACKUP/groups/cik_data/emnlp2023/datasets/LSC/{dataset}/truth/graded.txt\", mode='r', encoding='utf-8').readlines()\n",
    "graded = [float(i.strip()) for i in graded]"
   ]
  },
  {
   "cell_type": "code",
   "execution_count": 166,
   "id": "5e99d507-73ed-4733-a9a8-2e1591813b3f",
   "metadata": {},
   "outputs": [],
   "source": [
    "apd_values = defaultdict(list)\n",
    "prt_values = defaultdict(list)\n",
    "\n",
    "for t in targets:\n",
    "    for l in embs[t]:\n",
    "        apd_values[l].append(apd(embs[t][l][0], embs[t][l][1]))\n",
    "        prt_values[l].append(prt(embs[t][l][0], embs[t][l][1]))       "
   ]
  },
  {
   "cell_type": "code",
   "execution_count": 167,
   "id": "072467b0-4922-4918-8a38-8e1494f520b4",
   "metadata": {},
   "outputs": [],
   "source": [
    "sp_prt = list()\n",
    "for l in range(1, 13):\n",
    "    sp_prt.append(spearmanr(prt_values[l], graded).correlation)"
   ]
  },
  {
   "cell_type": "code",
   "execution_count": 168,
   "id": "410a4338-2f96-4aed-b5e2-6ca1a92a0e1d",
   "metadata": {},
   "outputs": [],
   "source": [
    "jsd_values = defaultdict(list)\n",
    "\n",
    "for t in targets:\n",
    "    for l in embs[t]:\n",
    "        #print(f'{t} - Layer: {l}')\n",
    "        jsd_values[l].append(jsd(embs[t][l][0], embs[t][l][1]))"
   ]
  },
  {
   "cell_type": "code",
   "execution_count": 169,
   "id": "eaba6c47-e12c-4289-9fa7-9ab882ca0e40",
   "metadata": {},
   "outputs": [],
   "source": [
    "sp_jsd = list()\n",
    "for l in range(1, 13):\n",
    "    sp_jsd.append(spearmanr(jsd_values[l], graded).correlation)"
   ]
  },
  {
   "cell_type": "code",
   "execution_count": 170,
   "id": "19f9f3a1-b786-4916-96a3-40e948f56eec",
   "metadata": {},
   "outputs": [],
   "source": [
    "import matplotlib.pyplot as plt"
   ]
  },
  {
   "cell_type": "code",
   "execution_count": 175,
   "id": "1f415b45-8dd5-4d39-9b29-40d977ed0db5",
   "metadata": {},
   "outputs": [
    {
     "data": {
      "image/png": "[encoded data removed]",
      "text/plain": [
       "<Figure size 432x216 with 1 Axes>"
      ]
     },
     "metadata": {
      "needs_background": "light"
     },
     "output_type": "display_data"
    }
   ],
   "source": [
    "plt.figure(figsize=(6, 3))\n",
    "plt.plot(list(range(1, 13)), sp_prt, label='XLM-R - PRT')\n",
    "plt.plot(list(range(1, 13)), sp_jsd, label='XLM-R - JSD')\n",
    "plt.ylabel('Spearman Correlation')\n",
    "plt.legend()\n",
    "plt.title(f'{dataset}')\n",
    "_ = plt.xticks(list(range(1,13)))"
   ]
  },
  {
   "cell_type": "code",
   "execution_count": null,
   "id": "e458cf43-f9b1-4d0c-8980-52abcaa2fb9a",
   "metadata": {},
   "outputs": [],
   "source": []
  },
  {
   "cell_type": "code",
   "execution_count": null,
   "id": "faa30f1f-7df5-4e0c-bb6e-4d88e9af672d",
   "metadata": {},
   "outputs": [],
   "source": []
  }
 ],
 "metadata": {
  "kernelspec": {
   "display_name": "NAACL24",
   "language": "python",
   "name": "naacl24"
  },
  "language_info": {
   "codemirror_mode": {
    "name": "ipython",
    "version": 3
   },
   "file_extension": ".py",
   "mimetype": "text/x-python",
   "name": "python",
   "nbconvert_exporter": "python",
   "pygments_lexer": "ipython3",
   "version": "3.10.4"
  }
 },
 "nbformat": 4,
 "nbformat_minor": 5
}
